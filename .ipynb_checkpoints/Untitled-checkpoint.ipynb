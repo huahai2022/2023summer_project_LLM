{
 "cells": [
  {
   "cell_type": "code",
   "execution_count": 14,
   "id": "24f1f345",
   "metadata": {},
   "outputs": [],
   "source": [
    "from langchain.document_loaders import UnstructuredPDFLoader\n",
    "\n",
    "loader = UnstructuredPDFLoader(\"Data/test1.pdf\", mode=\"elements\")"
   ]
  },
  {
   "cell_type": "code",
   "execution_count": 15,
   "id": "2e999c96",
   "metadata": {},
   "outputs": [],
   "source": [
    "data = loader.load()"
   ]
  },
  {
   "cell_type": "code",
   "execution_count": 17,
   "id": "12f7b376",
   "metadata": {},
   "outputs": [
    {
     "data": {
      "text/plain": [
       "[Document(page_content='1、MTDS网址是多少？MTDS 的安装密码是多少 解决方案：网址：mtds.oppein.com；', metadata={'source': 'Data/test1.pdf', 'filename': 'test1.pdf', 'file_directory': 'Data', 'filetype': 'application/pdf', 'page_number': 1, 'category': 'Title'}),\n",
       " Document(page_content='安装密码“oppein”（仅限于苹果 IPAD，其他设备不需 要安装密码）', metadata={'source': 'Data/test1.pdf', 'filename': 'test1.pdf', 'file_directory': 'Data', 'filetype': 'application/pdf', 'page_number': 1, 'category': 'NarrativeText'})]"
      ]
     },
     "execution_count": 17,
     "metadata": {},
     "output_type": "execute_result"
    }
   ],
   "source": [
    "data\n"
   ]
  },
  {
   "cell_type": "code",
   "execution_count": null,
   "id": "954fff91",
   "metadata": {},
   "outputs": [],
   "source": []
  }
 ],
 "metadata": {
  "kernelspec": {
   "display_name": "Python 3 (ipykernel)",
   "language": "python",
   "name": "python3"
  },
  "language_info": {
   "codemirror_mode": {
    "name": "ipython",
    "version": 3
   },
   "file_extension": ".py",
   "mimetype": "text/x-python",
   "name": "python",
   "nbconvert_exporter": "python",
   "pygments_lexer": "ipython3",
   "version": "3.10.11"
  }
 },
 "nbformat": 4,
 "nbformat_minor": 5
}
