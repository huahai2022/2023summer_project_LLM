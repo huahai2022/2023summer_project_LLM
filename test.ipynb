{
 "cells": [
  {
   "cell_type": "code",
   "execution_count": 4,
   "id": "ca69bb42",
   "metadata": {},
   "outputs": [],
   "source": [
    "from text_preprocessing.splitByQuestion import splitByQuestion\n",
    "from text_preprocessing.removePageNumber import removePageNumber"
   ]
  },
  {
   "cell_type": "code",
   "execution_count": 9,
   "id": "c9b6facb",
   "metadata": {},
   "outputs": [],
   "source": [
    "removePageNumber(\"Data/Chapter4/Chapter4.md\", 105)"
   ]
  },
  {
   "cell_type": "code",
   "execution_count": 7,
   "id": "fe82fb1b",
   "metadata": {},
   "outputs": [],
   "source": [
    "splitByQuestion(\"Data/Chapter3/\", \"Chapter3\")"
   ]
  },
  {
   "cell_type": "code",
   "execution_count": null,
   "id": "7f221991",
   "metadata": {},
   "outputs": [],
   "source": []
  }
 ],
 "metadata": {
  "kernelspec": {
   "display_name": "Python 3 (ipykernel)",
   "language": "python",
   "name": "python3"
  },
  "language_info": {
   "codemirror_mode": {
    "name": "ipython",
    "version": 3
   },
   "file_extension": ".py",
   "mimetype": "text/x-python",
   "name": "python",
   "nbconvert_exporter": "python",
   "pygments_lexer": "ipython3",
   "version": "3.10.11"
  }
 },
 "nbformat": 4,
 "nbformat_minor": 5
}
